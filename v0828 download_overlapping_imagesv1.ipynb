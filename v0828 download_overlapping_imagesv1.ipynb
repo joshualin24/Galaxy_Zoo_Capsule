{
 "cells": [
  {
   "cell_type": "code",
   "execution_count": 5,
   "metadata": {},
   "outputs": [
    {
     "data": {
      "text/plain": [
       "('./v0828/v0828test.jpg', <http.client.HTTPMessage at 0x103f21828>)"
      ]
     },
     "execution_count": 5,
     "metadata": {},
     "output_type": "execute_result"
    }
   ],
   "source": [
    "# 11:24am in Atlas room \n",
    "import os\n",
    "import urllib.request\n",
    "\n",
    "urllib.request.urlretrieve(\"http://skyserver.sdss.org/dr12/SkyserverWS/ImgCutout/getjpeg?TaskName=Skyserver.Chart.Image&ra=0.02932215&dec=8.27920328&scale=0.39612&width=360&height=360\", \"./v0828/v0828test.jpg\")"
   ]
  },
  {
   "cell_type": "code",
   "execution_count": 21,
   "metadata": {},
   "outputs": [],
   "source": [
    "\n",
    "import pandas as pd\n",
    "import html5lib\n",
    "from astropy import units as u\n",
    "from astropy.coordinates import SkyCoord\n",
    "#import dryscrape\n",
    "\n",
    "# df = pd.read_html(\"https://data.galaxyzoo.org/overlap-candidates.html\")\n",
    "# #df = pd.read_html(url)\n",
    "# df.head()"
   ]
  },
  {
   "cell_type": "code",
   "execution_count": 23,
   "metadata": {},
   "outputs": [
    {
     "data": {
      "text/plain": [
       "<SkyCoord (ICRS): (ra, dec) in deg\n",
       "    (0.029225, 8.2791167)>"
      ]
     },
     "execution_count": 23,
     "metadata": {},
     "output_type": "execute_result"
    }
   ],
   "source": [
    "SkyCoord.from_name(\"SDSS J000007.03+081645.1\")"
   ]
  },
  {
   "cell_type": "code",
   "execution_count": null,
   "metadata": {
    "collapsed": true
   },
   "outputs": [],
   "source": []
  }
 ],
 "metadata": {
  "kernelspec": {
   "display_name": "Python 3",
   "language": "python",
   "name": "python3"
  },
  "language_info": {
   "codemirror_mode": {
    "name": "ipython",
    "version": 3
   },
   "file_extension": ".py",
   "mimetype": "text/x-python",
   "name": "python",
   "nbconvert_exporter": "python",
   "pygments_lexer": "ipython3",
   "version": "3.6.3"
  }
 },
 "nbformat": 4,
 "nbformat_minor": 2
}
