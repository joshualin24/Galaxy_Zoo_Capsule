{
 "cells": [
  {
   "cell_type": "code",
   "execution_count": 3,
   "metadata": {},
   "outputs": [
    {
     "name": "stdout",
     "output_type": "stream",
     "text": [
      "J000007.03+081645.1\n",
      "0.0293 8.2792\n",
      "http://skyserver.sdss.org/dr12/SkyserverWS/ImgCutout/getjpeg?TaskName=Skyserver.Chart.Image&ra=0.0293&dec=8.2792&scale=0.39612&width=360&height=360\n",
      "J000046.97+282407.3\n",
      "0.19572 28.40203\n",
      "http://skyserver.sdss.org/dr12/SkyserverWS/ImgCutout/getjpeg?TaskName=Skyserver.Chart.Image&ra=0.19572&dec=28.40203&scale=0.39612&width=360&height=360\n",
      "J000058.93+285442.1\n",
      "0.24555 28.9117\n",
      "http://skyserver.sdss.org/dr12/SkyserverWS/ImgCutout/getjpeg?TaskName=Skyserver.Chart.Image&ra=0.24555&dec=28.9117&scale=0.39612&width=360&height=360\n",
      "J000103.67+343911.0\n",
      "0.2653 34.65306\n",
      "http://skyserver.sdss.org/dr12/SkyserverWS/ImgCutout/getjpeg?TaskName=Skyserver.Chart.Image&ra=0.2653&dec=34.65306&scale=0.39612&width=360&height=360\n",
      "J000140.21+010531.2\n",
      "0.41755 1.09201\n",
      "http://skyserver.sdss.org/dr12/SkyserverWS/ImgCutout/getjpeg?TaskName=Skyserver.Chart.Image&ra=0.41755&dec=1.09201&scale=0.39612&width=360&height=360\n",
      "J000253.63+315102.2\n",
      "0.72347 31.85062\n",
      "http://skyserver.sdss.org/dr12/SkyserverWS/ImgCutout/getjpeg?TaskName=Skyserver.Chart.Image&ra=0.72347&dec=31.85062&scale=0.39612&width=360&height=360\n",
      "J000320.46+083707.5\n",
      "0.83526 8.61876\n",
      "http://skyserver.sdss.org/dr12/SkyserverWS/ImgCutout/getjpeg?TaskName=Skyserver.Chart.Image&ra=0.83526&dec=8.61876&scale=0.39612&width=360&height=360\n",
      "J000400.79+160110.4\n",
      "1.0033 16.01956\n",
      "http://skyserver.sdss.org/dr12/SkyserverWS/ImgCutout/getjpeg?TaskName=Skyserver.Chart.Image&ra=1.0033&dec=16.01956&scale=0.39612&width=360&height=360\n"
     ]
    }
   ],
   "source": [
    "# 11:24am in Atlas room \n",
    "import os\n",
    "import urllib.request\n",
    "import numpy as np\n",
    "import pandas as pd\n",
    "import html5lib\n",
    "from astropy import units as u\n",
    "from astropy.coordinates import SkyCoord\n",
    "\n",
    "\n",
    "folder = \"./v0828new/\"\n",
    "\n",
    "\n",
    "newtext_file_name = \"v0828overlap-catalog.txt\"\n",
    "if not os.path.exists(folder):\n",
    "    os.mkdir(folder)\n",
    "    \n",
    "    \n",
    "    \n",
    "def remove_empty_lines(filename):\n",
    "    if not os.path.isfile(filename):\n",
    "        print(\"{} does not exist \".format(filename))\n",
    "        return\n",
    "    with open(filename) as filehandle:\n",
    "        lines = filehandle.readlines()\n",
    "\n",
    "    with open(newtext_file_name, 'w') as filehandle:\n",
    "        lines = filter(lambda x: x.strip(), lines)\n",
    "        filehandle.writelines(lines)   \n",
    "        \n",
    "# remove_empty_lines(\"overlap-catalog.txt\")\n",
    "#urllib.request.urlretrieve(\"http://skyserver.sdss.org/dr12/SkyserverWS/ImgCutout/getjpeg?TaskName=Skyserver.Chart.Image&ra=0.02932215&dec=8.27920328&scale=0.39612&width=360&height=360\", \"./v0828/v0828test.jpg\")\n",
    "# SkyCoord.from_name(\"SDSS J000007.03+081645.1\")\n",
    "df = pd.read_fwf(newtext_file_name, header=None)\n",
    "\n",
    "for i in range(1990):\n",
    "    try:\n",
    "        data = df[1][4*i+5]\n",
    "        print(data)\n",
    "        ra_dec_info = SkyCoord.from_name(data)\n",
    "        print(ra_dec_info.ra.degree, ra_dec_info.dec.degree)\n",
    "        link = (\"http://skyserver.sdss.org/dr12/SkyserverWS/ImgCutout/getjpeg?TaskName=Skyserver.Chart.Image&ra=%s&dec=%s&scale=0.39612&width=360&height=360\" % (str(round(ra_dec_info.ra.degree, 6)), str(round(ra_dec_info.dec.degree,6))))\n",
    "        print(link)\n",
    "        overlapping_name = \"overlapping\" '_' + \"%07d\" % (i+1) + '.jpeg'\n",
    "        urllib.request.urlretrieve(link, folder + overlapping_name )\n",
    "        #urllib.request.urlretrieve()\n",
    "    except:\n",
    "        pass#break "
   ]
  },
  {
   "cell_type": "code",
   "execution_count": null,
   "metadata": {
    "collapsed": true
   },
   "outputs": [],
   "source": [
    "\n",
    "# df.drop(df.index[0], inplace=True)\n"
   ]
  },
  {
   "cell_type": "code",
   "execution_count": null,
   "metadata": {},
   "outputs": [],
   "source": []
  },
  {
   "cell_type": "code",
   "execution_count": null,
   "metadata": {
    "collapsed": true
   },
   "outputs": [],
   "source": []
  },
  {
   "cell_type": "code",
   "execution_count": null,
   "metadata": {
    "collapsed": true
   },
   "outputs": [],
   "source": []
  },
  {
   "cell_type": "code",
   "execution_count": null,
   "metadata": {
    "collapsed": true
   },
   "outputs": [],
   "source": []
  },
  {
   "cell_type": "code",
   "execution_count": 51,
   "metadata": {
    "collapsed": true
   },
   "outputs": [],
   "source": []
  },
  {
   "cell_type": "code",
   "execution_count": null,
   "metadata": {},
   "outputs": [],
   "source": []
  },
  {
   "cell_type": "code",
   "execution_count": null,
   "metadata": {},
   "outputs": [],
   "source": []
  },
  {
   "cell_type": "code",
   "execution_count": null,
   "metadata": {
    "collapsed": true
   },
   "outputs": [],
   "source": []
  }
 ],
 "metadata": {
  "kernelspec": {
   "display_name": "Python 3",
   "language": "python",
   "name": "python3"
  },
  "language_info": {
   "codemirror_mode": {
    "name": "ipython",
    "version": 3
   },
   "file_extension": ".py",
   "mimetype": "text/x-python",
   "name": "python",
   "nbconvert_exporter": "python",
   "pygments_lexer": "ipython3",
   "version": "3.6.3"
  }
 },
 "nbformat": 4,
 "nbformat_minor": 2
}
